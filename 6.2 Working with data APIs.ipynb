{
 "cells": [
  {
   "cell_type": "markdown",
   "metadata": {},
   "source": [
    "# Processing social media data "
   ]
  },
  {
   "cell_type": "markdown",
   "metadata": {},
   "source": [
    "In Python, we will use the simplejson library to convert the JSON data for each tweet, so let's first import it.  The 'as' keyword is used to change the name of an imported tool to something shorter and more convenient.  \n",
    "\n",
    "In the code, you may see the symbol \"#\", this represents a comment and is not run by Python, but simply provides you with more information within the code itself. "
   ]
  },
  {
   "cell_type": "markdown",
   "metadata": {},
   "source": [
    "### Step 1: Loading our data"
   ]
  },
  {
   "cell_type": "code",
   "execution_count": 3,
   "metadata": {},
   "outputs": [],
   "source": [
    "import urllib.request\n",
    "import simplejson as json"
   ]
  },
  {
   "cell_type": "markdown",
   "metadata": {},
   "source": [
    "We will retrieve the data from an external site, and then read each tweet, and pull out the values we need for our analysis.  We wish to extract the \"date\" the tweet was published (\"created_at\"), The tweet id (\"id_str\") to act as our unique reference when storing and retrieving each tweet, and the tweet \"text\".  As we are interested in geolocation data, we also extract the longitude and latitude of from the tweet \"coordinates\" attribute, the place name (\"place\"), and whether the location is a town or city (\"place_type\").\n"
   ]
  },
  {
   "cell_type": "code",
   "execution_count": 9,
   "metadata": {},
   "outputs": [
    {
     "ename": "HTTPError",
     "evalue": "HTTP Error 404: Not Found",
     "output_type": "error",
     "traceback": [
      "\u001b[1;31m---------------------------------------------------------------------------\u001b[0m",
      "\u001b[1;31mHTTPError\u001b[0m                                 Traceback (most recent call last)",
      "\u001b[1;32m<ipython-input-9-5c40f333065d>\u001b[0m in \u001b[0;36m<module>\u001b[1;34m\u001b[0m\n\u001b[0;32m      3\u001b[0m \u001b[0murl\u001b[0m \u001b[1;33m=\u001b[0m \u001b[1;34m\"https://github.com/lazyeels/socialmedia/twitter_data_olio_UK_a.csv\"\u001b[0m\u001b[1;33m\u001b[0m\u001b[1;33m\u001b[0m\u001b[0m\n\u001b[0;32m      4\u001b[0m \u001b[1;33m\u001b[0m\u001b[0m\n\u001b[1;32m----> 5\u001b[1;33m \u001b[0mfilename\u001b[0m\u001b[1;33m,\u001b[0m \u001b[0mheaders\u001b[0m \u001b[1;33m=\u001b[0m \u001b[0murllib\u001b[0m\u001b[1;33m.\u001b[0m\u001b[0mrequest\u001b[0m\u001b[1;33m.\u001b[0m\u001b[0murlretrieve\u001b[0m\u001b[1;33m(\u001b[0m\u001b[0murl\u001b[0m\u001b[1;33m)\u001b[0m\u001b[1;33m\u001b[0m\u001b[1;33m\u001b[0m\u001b[0m\n\u001b[0m\u001b[0;32m      6\u001b[0m \u001b[1;33m\u001b[0m\u001b[0m\n\u001b[0;32m      7\u001b[0m \u001b[1;32mwith\u001b[0m \u001b[0mopen\u001b[0m\u001b[1;33m(\u001b[0m\u001b[0mfilename\u001b[0m\u001b[1;33m,\u001b[0m \u001b[1;34m'r'\u001b[0m\u001b[1;33m)\u001b[0m \u001b[1;32mas\u001b[0m \u001b[0minfile\u001b[0m\u001b[1;33m:\u001b[0m\u001b[1;33m\u001b[0m\u001b[1;33m\u001b[0m\u001b[0m\n",
      "\u001b[1;32mc:\\users\\mhroot\\appdata\\local\\programs\\python\\python36\\lib\\urllib\\request.py\u001b[0m in \u001b[0;36murlretrieve\u001b[1;34m(url, filename, reporthook, data)\u001b[0m\n\u001b[0;32m    246\u001b[0m     \u001b[0murl_type\u001b[0m\u001b[1;33m,\u001b[0m \u001b[0mpath\u001b[0m \u001b[1;33m=\u001b[0m \u001b[0msplittype\u001b[0m\u001b[1;33m(\u001b[0m\u001b[0murl\u001b[0m\u001b[1;33m)\u001b[0m\u001b[1;33m\u001b[0m\u001b[1;33m\u001b[0m\u001b[0m\n\u001b[0;32m    247\u001b[0m \u001b[1;33m\u001b[0m\u001b[0m\n\u001b[1;32m--> 248\u001b[1;33m     \u001b[1;32mwith\u001b[0m \u001b[0mcontextlib\u001b[0m\u001b[1;33m.\u001b[0m\u001b[0mclosing\u001b[0m\u001b[1;33m(\u001b[0m\u001b[0murlopen\u001b[0m\u001b[1;33m(\u001b[0m\u001b[0murl\u001b[0m\u001b[1;33m,\u001b[0m \u001b[0mdata\u001b[0m\u001b[1;33m)\u001b[0m\u001b[1;33m)\u001b[0m \u001b[1;32mas\u001b[0m \u001b[0mfp\u001b[0m\u001b[1;33m:\u001b[0m\u001b[1;33m\u001b[0m\u001b[1;33m\u001b[0m\u001b[0m\n\u001b[0m\u001b[0;32m    249\u001b[0m         \u001b[0mheaders\u001b[0m \u001b[1;33m=\u001b[0m \u001b[0mfp\u001b[0m\u001b[1;33m.\u001b[0m\u001b[0minfo\u001b[0m\u001b[1;33m(\u001b[0m\u001b[1;33m)\u001b[0m\u001b[1;33m\u001b[0m\u001b[1;33m\u001b[0m\u001b[0m\n\u001b[0;32m    250\u001b[0m \u001b[1;33m\u001b[0m\u001b[0m\n",
      "\u001b[1;32mc:\\users\\mhroot\\appdata\\local\\programs\\python\\python36\\lib\\urllib\\request.py\u001b[0m in \u001b[0;36murlopen\u001b[1;34m(url, data, timeout, cafile, capath, cadefault, context)\u001b[0m\n\u001b[0;32m    221\u001b[0m     \u001b[1;32melse\u001b[0m\u001b[1;33m:\u001b[0m\u001b[1;33m\u001b[0m\u001b[1;33m\u001b[0m\u001b[0m\n\u001b[0;32m    222\u001b[0m         \u001b[0mopener\u001b[0m \u001b[1;33m=\u001b[0m \u001b[0m_opener\u001b[0m\u001b[1;33m\u001b[0m\u001b[1;33m\u001b[0m\u001b[0m\n\u001b[1;32m--> 223\u001b[1;33m     \u001b[1;32mreturn\u001b[0m \u001b[0mopener\u001b[0m\u001b[1;33m.\u001b[0m\u001b[0mopen\u001b[0m\u001b[1;33m(\u001b[0m\u001b[0murl\u001b[0m\u001b[1;33m,\u001b[0m \u001b[0mdata\u001b[0m\u001b[1;33m,\u001b[0m \u001b[0mtimeout\u001b[0m\u001b[1;33m)\u001b[0m\u001b[1;33m\u001b[0m\u001b[1;33m\u001b[0m\u001b[0m\n\u001b[0m\u001b[0;32m    224\u001b[0m \u001b[1;33m\u001b[0m\u001b[0m\n\u001b[0;32m    225\u001b[0m \u001b[1;32mdef\u001b[0m \u001b[0minstall_opener\u001b[0m\u001b[1;33m(\u001b[0m\u001b[0mopener\u001b[0m\u001b[1;33m)\u001b[0m\u001b[1;33m:\u001b[0m\u001b[1;33m\u001b[0m\u001b[1;33m\u001b[0m\u001b[0m\n",
      "\u001b[1;32mc:\\users\\mhroot\\appdata\\local\\programs\\python\\python36\\lib\\urllib\\request.py\u001b[0m in \u001b[0;36mopen\u001b[1;34m(self, fullurl, data, timeout)\u001b[0m\n\u001b[0;32m    530\u001b[0m         \u001b[1;32mfor\u001b[0m \u001b[0mprocessor\u001b[0m \u001b[1;32min\u001b[0m \u001b[0mself\u001b[0m\u001b[1;33m.\u001b[0m\u001b[0mprocess_response\u001b[0m\u001b[1;33m.\u001b[0m\u001b[0mget\u001b[0m\u001b[1;33m(\u001b[0m\u001b[0mprotocol\u001b[0m\u001b[1;33m,\u001b[0m \u001b[1;33m[\u001b[0m\u001b[1;33m]\u001b[0m\u001b[1;33m)\u001b[0m\u001b[1;33m:\u001b[0m\u001b[1;33m\u001b[0m\u001b[1;33m\u001b[0m\u001b[0m\n\u001b[0;32m    531\u001b[0m             \u001b[0mmeth\u001b[0m \u001b[1;33m=\u001b[0m \u001b[0mgetattr\u001b[0m\u001b[1;33m(\u001b[0m\u001b[0mprocessor\u001b[0m\u001b[1;33m,\u001b[0m \u001b[0mmeth_name\u001b[0m\u001b[1;33m)\u001b[0m\u001b[1;33m\u001b[0m\u001b[1;33m\u001b[0m\u001b[0m\n\u001b[1;32m--> 532\u001b[1;33m             \u001b[0mresponse\u001b[0m \u001b[1;33m=\u001b[0m \u001b[0mmeth\u001b[0m\u001b[1;33m(\u001b[0m\u001b[0mreq\u001b[0m\u001b[1;33m,\u001b[0m \u001b[0mresponse\u001b[0m\u001b[1;33m)\u001b[0m\u001b[1;33m\u001b[0m\u001b[1;33m\u001b[0m\u001b[0m\n\u001b[0m\u001b[0;32m    533\u001b[0m \u001b[1;33m\u001b[0m\u001b[0m\n\u001b[0;32m    534\u001b[0m         \u001b[1;32mreturn\u001b[0m \u001b[0mresponse\u001b[0m\u001b[1;33m\u001b[0m\u001b[1;33m\u001b[0m\u001b[0m\n",
      "\u001b[1;32mc:\\users\\mhroot\\appdata\\local\\programs\\python\\python36\\lib\\urllib\\request.py\u001b[0m in \u001b[0;36mhttp_response\u001b[1;34m(self, request, response)\u001b[0m\n\u001b[0;32m    640\u001b[0m         \u001b[1;32mif\u001b[0m \u001b[1;32mnot\u001b[0m \u001b[1;33m(\u001b[0m\u001b[1;36m200\u001b[0m \u001b[1;33m<=\u001b[0m \u001b[0mcode\u001b[0m \u001b[1;33m<\u001b[0m \u001b[1;36m300\u001b[0m\u001b[1;33m)\u001b[0m\u001b[1;33m:\u001b[0m\u001b[1;33m\u001b[0m\u001b[1;33m\u001b[0m\u001b[0m\n\u001b[0;32m    641\u001b[0m             response = self.parent.error(\n\u001b[1;32m--> 642\u001b[1;33m                 'http', request, response, code, msg, hdrs)\n\u001b[0m\u001b[0;32m    643\u001b[0m \u001b[1;33m\u001b[0m\u001b[0m\n\u001b[0;32m    644\u001b[0m         \u001b[1;32mreturn\u001b[0m \u001b[0mresponse\u001b[0m\u001b[1;33m\u001b[0m\u001b[1;33m\u001b[0m\u001b[0m\n",
      "\u001b[1;32mc:\\users\\mhroot\\appdata\\local\\programs\\python\\python36\\lib\\urllib\\request.py\u001b[0m in \u001b[0;36merror\u001b[1;34m(self, proto, *args)\u001b[0m\n\u001b[0;32m    568\u001b[0m         \u001b[1;32mif\u001b[0m \u001b[0mhttp_err\u001b[0m\u001b[1;33m:\u001b[0m\u001b[1;33m\u001b[0m\u001b[1;33m\u001b[0m\u001b[0m\n\u001b[0;32m    569\u001b[0m             \u001b[0margs\u001b[0m \u001b[1;33m=\u001b[0m \u001b[1;33m(\u001b[0m\u001b[0mdict\u001b[0m\u001b[1;33m,\u001b[0m \u001b[1;34m'default'\u001b[0m\u001b[1;33m,\u001b[0m \u001b[1;34m'http_error_default'\u001b[0m\u001b[1;33m)\u001b[0m \u001b[1;33m+\u001b[0m \u001b[0morig_args\u001b[0m\u001b[1;33m\u001b[0m\u001b[1;33m\u001b[0m\u001b[0m\n\u001b[1;32m--> 570\u001b[1;33m             \u001b[1;32mreturn\u001b[0m \u001b[0mself\u001b[0m\u001b[1;33m.\u001b[0m\u001b[0m_call_chain\u001b[0m\u001b[1;33m(\u001b[0m\u001b[1;33m*\u001b[0m\u001b[0margs\u001b[0m\u001b[1;33m)\u001b[0m\u001b[1;33m\u001b[0m\u001b[1;33m\u001b[0m\u001b[0m\n\u001b[0m\u001b[0;32m    571\u001b[0m \u001b[1;33m\u001b[0m\u001b[0m\n\u001b[0;32m    572\u001b[0m \u001b[1;31m# XXX probably also want an abstract factory that knows when it makes\u001b[0m\u001b[1;33m\u001b[0m\u001b[1;33m\u001b[0m\u001b[1;33m\u001b[0m\u001b[0m\n",
      "\u001b[1;32mc:\\users\\mhroot\\appdata\\local\\programs\\python\\python36\\lib\\urllib\\request.py\u001b[0m in \u001b[0;36m_call_chain\u001b[1;34m(self, chain, kind, meth_name, *args)\u001b[0m\n\u001b[0;32m    502\u001b[0m         \u001b[1;32mfor\u001b[0m \u001b[0mhandler\u001b[0m \u001b[1;32min\u001b[0m \u001b[0mhandlers\u001b[0m\u001b[1;33m:\u001b[0m\u001b[1;33m\u001b[0m\u001b[1;33m\u001b[0m\u001b[0m\n\u001b[0;32m    503\u001b[0m             \u001b[0mfunc\u001b[0m \u001b[1;33m=\u001b[0m \u001b[0mgetattr\u001b[0m\u001b[1;33m(\u001b[0m\u001b[0mhandler\u001b[0m\u001b[1;33m,\u001b[0m \u001b[0mmeth_name\u001b[0m\u001b[1;33m)\u001b[0m\u001b[1;33m\u001b[0m\u001b[1;33m\u001b[0m\u001b[0m\n\u001b[1;32m--> 504\u001b[1;33m             \u001b[0mresult\u001b[0m \u001b[1;33m=\u001b[0m \u001b[0mfunc\u001b[0m\u001b[1;33m(\u001b[0m\u001b[1;33m*\u001b[0m\u001b[0margs\u001b[0m\u001b[1;33m)\u001b[0m\u001b[1;33m\u001b[0m\u001b[1;33m\u001b[0m\u001b[0m\n\u001b[0m\u001b[0;32m    505\u001b[0m             \u001b[1;32mif\u001b[0m \u001b[0mresult\u001b[0m \u001b[1;32mis\u001b[0m \u001b[1;32mnot\u001b[0m \u001b[1;32mNone\u001b[0m\u001b[1;33m:\u001b[0m\u001b[1;33m\u001b[0m\u001b[1;33m\u001b[0m\u001b[0m\n\u001b[0;32m    506\u001b[0m                 \u001b[1;32mreturn\u001b[0m \u001b[0mresult\u001b[0m\u001b[1;33m\u001b[0m\u001b[1;33m\u001b[0m\u001b[0m\n",
      "\u001b[1;32mc:\\users\\mhroot\\appdata\\local\\programs\\python\\python36\\lib\\urllib\\request.py\u001b[0m in \u001b[0;36mhttp_error_default\u001b[1;34m(self, req, fp, code, msg, hdrs)\u001b[0m\n\u001b[0;32m    648\u001b[0m \u001b[1;32mclass\u001b[0m \u001b[0mHTTPDefaultErrorHandler\u001b[0m\u001b[1;33m(\u001b[0m\u001b[0mBaseHandler\u001b[0m\u001b[1;33m)\u001b[0m\u001b[1;33m:\u001b[0m\u001b[1;33m\u001b[0m\u001b[1;33m\u001b[0m\u001b[0m\n\u001b[0;32m    649\u001b[0m     \u001b[1;32mdef\u001b[0m \u001b[0mhttp_error_default\u001b[0m\u001b[1;33m(\u001b[0m\u001b[0mself\u001b[0m\u001b[1;33m,\u001b[0m \u001b[0mreq\u001b[0m\u001b[1;33m,\u001b[0m \u001b[0mfp\u001b[0m\u001b[1;33m,\u001b[0m \u001b[0mcode\u001b[0m\u001b[1;33m,\u001b[0m \u001b[0mmsg\u001b[0m\u001b[1;33m,\u001b[0m \u001b[0mhdrs\u001b[0m\u001b[1;33m)\u001b[0m\u001b[1;33m:\u001b[0m\u001b[1;33m\u001b[0m\u001b[1;33m\u001b[0m\u001b[0m\n\u001b[1;32m--> 650\u001b[1;33m         \u001b[1;32mraise\u001b[0m \u001b[0mHTTPError\u001b[0m\u001b[1;33m(\u001b[0m\u001b[0mreq\u001b[0m\u001b[1;33m.\u001b[0m\u001b[0mfull_url\u001b[0m\u001b[1;33m,\u001b[0m \u001b[0mcode\u001b[0m\u001b[1;33m,\u001b[0m \u001b[0mmsg\u001b[0m\u001b[1;33m,\u001b[0m \u001b[0mhdrs\u001b[0m\u001b[1;33m,\u001b[0m \u001b[0mfp\u001b[0m\u001b[1;33m)\u001b[0m\u001b[1;33m\u001b[0m\u001b[1;33m\u001b[0m\u001b[0m\n\u001b[0m\u001b[0;32m    651\u001b[0m \u001b[1;33m\u001b[0m\u001b[0m\n\u001b[0;32m    652\u001b[0m \u001b[1;32mclass\u001b[0m \u001b[0mHTTPRedirectHandler\u001b[0m\u001b[1;33m(\u001b[0m\u001b[0mBaseHandler\u001b[0m\u001b[1;33m)\u001b[0m\u001b[1;33m:\u001b[0m\u001b[1;33m\u001b[0m\u001b[1;33m\u001b[0m\u001b[0m\n",
      "\u001b[1;31mHTTPError\u001b[0m: HTTP Error 404: Not Found"
     ]
    }
   ],
   "source": [
    "temp = [] \n",
    "\n",
    "url = \"https://github.com/lazyeels/socialmedia/twitter_data_olio_UK_a.csv\"\n",
    "\n",
    "filename, headers = urllib.request.urlretrieve(url)\n",
    "\n",
    "with open(filename, 'r') as infile:\n",
    "    for line in infile:\n",
    "        tweet = json.loads(line)\n",
    "        timestamp = tweet['created_at']\n",
    "        message_id = tweet['id_str']\n",
    "        text = tweet['text']\n",
    "        \n",
    "        lat, lng = tweet['geo']['coordinates']\n",
    "        \n",
    "        place_name = tweet['place']['name']\n",
    "        place_type = tweet['place']['place_type']\n",
    "\n",
    "        temp.append([timestamp, message_id, place_name, place_type, lat, lng, text])"
   ]
  },
  {
   "cell_type": "markdown",
   "metadata": {},
   "source": [
    "To recap, we now have a list of values extracted from the tweets. To explore this data we will make use of a tool for called Pandas, a Python library for data analysis and visualisation. We begin by importing the library, as follows:"
   ]
  },
  {
   "cell_type": "markdown",
   "metadata": {},
   "source": [
    "### Step 2: Transforming our data"
   ]
  },
  {
   "cell_type": "code",
   "execution_count": 3,
   "metadata": {},
   "outputs": [],
   "source": [
    "import pandas as pd"
   ]
  },
  {
   "cell_type": "markdown",
   "metadata": {},
   "source": [
    "As we mentioned previously, Pandas uses the concept of a data frame, a datastructure used to store tabular data, such as that found in spreadsheets and databases. The first argument is our temporary list containing all the tweets we just collated from the .csv file.  We then define the column labels we will use for our data."
   ]
  },
  {
   "cell_type": "code",
   "execution_count": 4,
   "metadata": {},
   "outputs": [],
   "source": [
    "df = pd.DataFrame(temp, columns=['date', '_id', 'place_name', 'place_type', 'lat', 'lng', 'text'])\n",
    "df['date'] = pd.to_datetime(df['date']) "
   ]
  },
  {
   "cell_type": "markdown",
   "metadata": {},
   "source": [
    "We can now start to explore further by looking at a summary of the data across all columns. We use the Pandas .head() function to view the first few rows of the dataset. This is also a good method for checking that our data was correctly loaded and partitioned into the columns."
   ]
  },
  {
   "cell_type": "code",
   "execution_count": 5,
   "metadata": {},
   "outputs": [
    {
     "data": {
      "text/html": [
       "<div>\n",
       "<style scoped>\n",
       "    .dataframe tbody tr th:only-of-type {\n",
       "        vertical-align: middle;\n",
       "    }\n",
       "\n",
       "    .dataframe tbody tr th {\n",
       "        vertical-align: top;\n",
       "    }\n",
       "\n",
       "    .dataframe thead th {\n",
       "        text-align: right;\n",
       "    }\n",
       "</style>\n",
       "<table border=\"1\" class=\"dataframe\">\n",
       "  <thead>\n",
       "    <tr style=\"text-align: right;\">\n",
       "      <th></th>\n",
       "      <th>date</th>\n",
       "      <th>_id</th>\n",
       "      <th>place_name</th>\n",
       "      <th>place_type</th>\n",
       "      <th>lat</th>\n",
       "      <th>lng</th>\n",
       "      <th>text</th>\n",
       "    </tr>\n",
       "  </thead>\n",
       "  <tbody>\n",
       "    <tr>\n",
       "      <td>0</td>\n",
       "      <td>2020-09-29 20:57:35+00:00</td>\n",
       "      <td>1311047494021701632</td>\n",
       "      <td>Oadby</td>\n",
       "      <td>city</td>\n",
       "      <td>52.588300</td>\n",
       "      <td>-1.096120</td>\n",
       "      <td>\"Hovis granary wholemeal\" in #Leicester #Unite...</td>\n",
       "    </tr>\n",
       "    <tr>\n",
       "      <td>1</td>\n",
       "      <td>2020-09-29 20:43:53+00:00</td>\n",
       "      <td>1311044046471585792</td>\n",
       "      <td>Oadby</td>\n",
       "      <td>city</td>\n",
       "      <td>52.588300</td>\n",
       "      <td>-1.096120</td>\n",
       "      <td>\"Celery\" in #Leicester #UnitedKingdom https://...</td>\n",
       "    </tr>\n",
       "    <tr>\n",
       "      <td>2</td>\n",
       "      <td>2020-09-29 20:43:26+00:00</td>\n",
       "      <td>1311043935322611712</td>\n",
       "      <td>Hammersmith</td>\n",
       "      <td>city</td>\n",
       "      <td>51.486500</td>\n",
       "      <td>-0.226510</td>\n",
       "      <td>\"Eat 17 - small baguettes\" in #London #UnitedK...</td>\n",
       "    </tr>\n",
       "    <tr>\n",
       "      <td>3</td>\n",
       "      <td>2020-09-29 20:41:30+00:00</td>\n",
       "      <td>1311043448972083203</td>\n",
       "      <td>Barking</td>\n",
       "      <td>city</td>\n",
       "      <td>51.540900</td>\n",
       "      <td>0.122000</td>\n",
       "      <td>\"Salad\" in #Dagenham #UnitedKingdom https://t....</td>\n",
       "    </tr>\n",
       "    <tr>\n",
       "      <td>4</td>\n",
       "      <td>2020-09-29 20:41:06+00:00</td>\n",
       "      <td>1311043346257772544</td>\n",
       "      <td>Glasgow</td>\n",
       "      <td>city</td>\n",
       "      <td>55.872000</td>\n",
       "      <td>-4.268960</td>\n",
       "      <td>\"Humous and Chipotle Wrap\" in #Glasgow #United...</td>\n",
       "    </tr>\n",
       "    <tr>\n",
       "      <td>5</td>\n",
       "      <td>2020-09-29 20:21:16+00:00</td>\n",
       "      <td>1311038353458917376</td>\n",
       "      <td>Camberwell</td>\n",
       "      <td>city</td>\n",
       "      <td>51.495500</td>\n",
       "      <td>-0.097680</td>\n",
       "      <td>\"Sandwich 🥪\" in #London #UnitedKingdom https:/...</td>\n",
       "    </tr>\n",
       "    <tr>\n",
       "      <td>6</td>\n",
       "      <td>2020-09-29 19:58:56+00:00</td>\n",
       "      <td>1311032734249295873</td>\n",
       "      <td>Portsmouth</td>\n",
       "      <td>city</td>\n",
       "      <td>50.819767</td>\n",
       "      <td>-1.087977</td>\n",
       "      <td>\"Kids bedroom curtains\" in #Portsmouth #United...</td>\n",
       "    </tr>\n",
       "    <tr>\n",
       "      <td>7</td>\n",
       "      <td>2020-09-29 19:58:13+00:00</td>\n",
       "      <td>1311032553516793859</td>\n",
       "      <td>Warrington</td>\n",
       "      <td>city</td>\n",
       "      <td>53.388500</td>\n",
       "      <td>-2.662780</td>\n",
       "      <td>\"4 assorted bakery items\" in #Warrington #Unit...</td>\n",
       "    </tr>\n",
       "    <tr>\n",
       "      <td>8</td>\n",
       "      <td>2020-09-29 19:58:10+00:00</td>\n",
       "      <td>1311032540929708035</td>\n",
       "      <td>Warrington</td>\n",
       "      <td>city</td>\n",
       "      <td>53.388500</td>\n",
       "      <td>-2.662780</td>\n",
       "      <td>\"4 assorted bakery items\" in #Warrington #Unit...</td>\n",
       "    </tr>\n",
       "    <tr>\n",
       "      <td>9</td>\n",
       "      <td>2020-09-29 19:58:10+00:00</td>\n",
       "      <td>1311032540178849792</td>\n",
       "      <td>Warrington</td>\n",
       "      <td>city</td>\n",
       "      <td>53.388500</td>\n",
       "      <td>-2.662780</td>\n",
       "      <td>\"4 assorted bakery items\" in #Warrington #Unit...</td>\n",
       "    </tr>\n",
       "  </tbody>\n",
       "</table>\n",
       "</div>"
      ],
      "text/plain": [
       "                       date                  _id   place_name place_type  \\\n",
       "0 2020-09-29 20:57:35+00:00  1311047494021701632        Oadby       city   \n",
       "1 2020-09-29 20:43:53+00:00  1311044046471585792        Oadby       city   \n",
       "2 2020-09-29 20:43:26+00:00  1311043935322611712  Hammersmith       city   \n",
       "3 2020-09-29 20:41:30+00:00  1311043448972083203      Barking       city   \n",
       "4 2020-09-29 20:41:06+00:00  1311043346257772544      Glasgow       city   \n",
       "5 2020-09-29 20:21:16+00:00  1311038353458917376   Camberwell       city   \n",
       "6 2020-09-29 19:58:56+00:00  1311032734249295873   Portsmouth       city   \n",
       "7 2020-09-29 19:58:13+00:00  1311032553516793859   Warrington       city   \n",
       "8 2020-09-29 19:58:10+00:00  1311032540929708035   Warrington       city   \n",
       "9 2020-09-29 19:58:10+00:00  1311032540178849792   Warrington       city   \n",
       "\n",
       "         lat       lng                                               text  \n",
       "0  52.588300 -1.096120  \"Hovis granary wholemeal\" in #Leicester #Unite...  \n",
       "1  52.588300 -1.096120  \"Celery\" in #Leicester #UnitedKingdom https://...  \n",
       "2  51.486500 -0.226510  \"Eat 17 - small baguettes\" in #London #UnitedK...  \n",
       "3  51.540900  0.122000  \"Salad\" in #Dagenham #UnitedKingdom https://t....  \n",
       "4  55.872000 -4.268960  \"Humous and Chipotle Wrap\" in #Glasgow #United...  \n",
       "5  51.495500 -0.097680  \"Sandwich 🥪\" in #London #UnitedKingdom https:/...  \n",
       "6  50.819767 -1.087977  \"Kids bedroom curtains\" in #Portsmouth #United...  \n",
       "7  53.388500 -2.662780  \"4 assorted bakery items\" in #Warrington #Unit...  \n",
       "8  53.388500 -2.662780  \"4 assorted bakery items\" in #Warrington #Unit...  \n",
       "9  53.388500 -2.662780  \"4 assorted bakery items\" in #Warrington #Unit...  "
      ]
     },
     "execution_count": 5,
     "metadata": {},
     "output_type": "execute_result"
    }
   ],
   "source": [
    "df.head(10)"
   ]
  },
  {
   "cell_type": "markdown",
   "metadata": {},
   "source": [
    "### Step 3: Exploring our data"
   ]
  },
  {
   "cell_type": "markdown",
   "metadata": {},
   "source": [
    "We have captured information about the date and time of the tweet, the message id, a place name and type, latitude and longitude coordinates and the tweet text. Looking at the text of the tweet, we can see they mention various kinds of products, mainly related to food, and particularly those with a short shelf-life. Some tweets include a hashtag for the location, but this is not always the case. In addition, we can see that in some instances the name of the outlet is included, e.g. \"Pret\", and \"Eat 17\", as well as brands e.g. \"Hovis\". We also observe that several of the same food items are being listed from the same location. People may list more than one item of the same product, which are posted to twitter as individual tweets.\n",
    "\n"
   ]
  },
  {
   "cell_type": "markdown",
   "metadata": {},
   "source": [
    "We will look at food waste on a product level over time and per region. We will see now many sandwiches are being saved from waste by region, and since many tweets about sandwiches also mention the brand, we can look at this in terms of Pret, Tesco, and Costa, some of the main outlets for sandwiches.\n",
    "\n",
    "Before we proceed we will write three helper functions that will enable us to filter the data given a text string specifiying a keyword or product. We are using a simple approach using regular expressions, a sequence of characters that define a search pattern to match a string. Python has a built in library for regular expressions called 're', which we import.\n",
    "\n",
    "The tweet text contains a description of the product being listed, and luckily this description is enclosed in double quotation marks making it easy to pull out only the product text and ignore all other text pertaining to the hashtags.\n",
    "\n",
    "Our first function 'getProduct' will iterate through our data set and extract the item description using the re.findall() method given a pattern and text to match that pattern against. We then collate the latitude and longitude coordinates for the tweets matching our search string 'product', which is the only argument passed to this function.\n",
    "\n",
    "The second function 'countProductByLocation' iterates through our data set and like the previous function, will match a text string in the tweet message that we specify.  It then constructs a new Pandas DataFrame based on the counts we obtain for the matched string (in our case a food product), which we will use as the data for plotting.\n",
    "\n",
    "The third function 'countByHour' will take the list of hours and coordinates, count up the number of instances per hour, and convert it to a dataframe for summarising and plotting later. By defining these two functions, we can query different products to help us explore deeper into the data with not too much effort or repetition of code.\n"
   ]
  },
  {
   "cell_type": "code",
   "execution_count": 6,
   "metadata": {},
   "outputs": [],
   "source": [
    "from utils import getProduct, countProductByLocation, countByHour"
   ]
  },
  {
   "cell_type": "code",
   "execution_count": 11,
   "metadata": {},
   "outputs": [
    {
     "data": {
      "text/plain": [
       "Text(0, 0.5, 'Count')"
      ]
     },
     "execution_count": 11,
     "metadata": {},
     "output_type": "execute_result"
    },
    {
     "data": {
      "image/png": "[encoded data removed]",
      "text/plain": [
       "<Figure size 432x288 with 1 Axes>"
      ]
     },
     "metadata": {
      "needs_background": "light"
     },
     "output_type": "display_data"
    }
   ],
   "source": [
    "# Add a signpost for the learner to re-run this section.\n",
    "\n",
    "# Product search\n",
    "products = ['sandwich', 'pastries']\n",
    "\n",
    "main_plot = None\n",
    "\n",
    "for product in products:\n",
    "    \n",
    "    index, hour_list = getProduct(df, product)\n",
    "\n",
    "    sandwich_df = countByHour(hour_list)\n",
    "    if main_plot == None:\n",
    "        main_plot = sandwich_df.plot(label=product)\n",
    "    else:\n",
    "        sandwich_df.plot(ax=main_plot, label=product)\n",
    "\n",
    "        \n",
    "main_plot.legend(products)\n",
    "main_plot.set_title('Items listed by hour')\n",
    "main_plot.set_ylabel('Count')\n"
   ]
  },
  {
   "cell_type": "markdown",
   "metadata": {},
   "source": [
    "Now let's try that again, but this time search for brands or sandwich outlets."
   ]
  },
  {
   "cell_type": "code",
   "execution_count": 13,
   "metadata": {},
   "outputs": [
    {
     "data": {
      "text/plain": [
       "Text(0, 0.5, 'Count')"
      ]
     },
     "execution_count": 13,
     "metadata": {},
     "output_type": "execute_result"
    },
    {
     "data": {
      "image/png": "[encoded data removed]",
      "text/plain": [
       "<Figure size 432x288 with 1 Axes>"
      ]
     },
     "metadata": {
      "needs_background": "light"
     },
     "output_type": "display_data"
    }
   ],
   "source": [
    "# Outlet search\n",
    "brands = ['Tesco', 'Pret', 'Costa']\n",
    "\n",
    "main_plot = None\n",
    "\n",
    "for brand in brands:\n",
    "    \n",
    "    index, hour_list = getProduct(df, brand)\n",
    "\n",
    "    sandwich_df = countByHour(hour_list)\n",
    "    if main_plot == None:\n",
    "        main_plot = sandwich_df.plot(label=brand)\n",
    "    else:\n",
    "        sandwich_df.plot(ax=main_plot, label=brand)\n",
    "\n",
    "main_plot.legend(brands)\n",
    "main_plot.set_title('Outlets listed by hour')\n",
    "main_plot.set_ylabel('Count')"
   ]
  },
  {
   "cell_type": "markdown",
   "metadata": {},
   "source": [
    "After plotting the tweets that mention an outlet, we see that these items are generally listed in the latter part of the afternoon and late evening."
   ]
  },
  {
   "cell_type": "markdown",
   "metadata": {},
   "source": [
    "## Task\n",
    "\n",
    "Amend the list of products stored in the \"products\" variable, where we currently have ['sandwich', 'pastries'], and run the above cells from \"Step 3 Exploring our Data\" again. If you are stuck, look over the table of data again and the text column to see if you can identify any keywords worth exploring.  You can increase the size of the sample in the table with by amending df.head(10) to df.head(20) to expand the table view to the first twenty rows of data.\n",
    "\n",
    "You will see from this simple example analysis we can already explore a number of questions about food waste using relatively little data. Depending on your data it may be necessary to employ more sophisticated Natural Language Processing tools, but in our case the tweet text was short and formatted in a standard way, which made it straight forward to extract the product text."
   ]
  },
  {
   "cell_type": "markdown",
   "metadata": {},
   "source": [
    "## Troubleshooting\n",
    "\n",
    "If you get an error when running the code after making changes, please refresh the page to retrieve a fresh copy of the notebook.  \n",
    "\n",
    "If you think the issues are related to a bug outside of your control, then please flag this in the comments section for this activity."
   ]
  }
 ],
 "metadata": {
  "kernelspec": {
   "display_name": "Python 3",
   "language": "python",
   "name": "python3"
  },
  "language_info": {
   "codemirror_mode": {
    "name": "ipython",
    "version": 3
   },
   "file_extension": ".py",
   "mimetype": "text/x-python",
   "name": "python",
   "nbconvert_exporter": "python",
   "pygments_lexer": "ipython3",
   "version": "3.6.8"
  }
 },
 "nbformat": 4,
 "nbformat_minor": 2
}
