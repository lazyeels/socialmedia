{
 "cells": [
  {
   "cell_type": "markdown",
   "metadata": {},
   "source": [
    "## Task: processing social media data "
   ]
  },
  {
   "cell_type": "markdown",
   "metadata": {},
   "source": [
    "In Python, we will use the simplejson library to convert the JSON data for each tweet, so let's first import it.  The 'as' keyword is used to change the name of an imported tool to something shorter and more convenient."
   ]
  },
  {
   "cell_type": "code",
   "execution_count": 1,
   "metadata": {},
   "outputs": [],
   "source": [
    "import simplejson as json"
   ]
  },
  {
   "cell_type": "markdown",
   "metadata": {},
   "source": [
    "We will read each tweet, and pull out the values we need for our analysis.  We wish to extract the \"date\" the tweet was published (\"created_at\"), The tweet id (\"id_str\") to act as our unique reference when storing and retrieving each tweet, and the tweet \"text\".  As we are interested in geolocation data, we also extract the longitude and latitude of from the tweet \"coordinates\" attribute, the place name (\"place\"), and whether the location is a town or city (\"place_type\").\n"
   ]
  },
  {
   "cell_type": "code",
   "execution_count": 2,
   "metadata": {},
   "outputs": [],
   "source": [
    "temp = [] \n",
    "\n",
    "with open('./data/twitter_data_olio_UK_a.csv', 'r') as infile:\n",
    "    for line in infile:\n",
    "        tweet = json.loads(line)\n",
    "        timestamp = tweet['created_at']\n",
    "        message_id = tweet['id_str']\n",
    "        text = tweet['text']\n",
    "        \n",
    "        lat, lng = tweet['geo']['coordinates']\n",
    "        \n",
    "        place_name = tweet['place']['name']\n",
    "        place_type = tweet['place']['place_type']\n",
    "\n",
    "        temp.append([timestamp, message_id, place_name, place_type, lat, lng, text])"
   ]
  },
  {
   "cell_type": "markdown",
   "metadata": {},
   "source": [
    "To recap, we now have a list of values extracted from the tweets. To explore this data we will make use of a tool for called Pandas, a Python library for data analysis and visualisation. We begin by importing the library, as follows:"
   ]
  },
  {
   "cell_type": "code",
   "execution_count": 3,
   "metadata": {},
   "outputs": [],
   "source": [
    "import pandas as pd"
   ]
  },
  {
   "cell_type": "markdown",
   "metadata": {},
   "source": [
    "As we mentioned previously, Pandas uses the concept of a data frame, a datastructure used to store tabular data, such as that found in spreadsheets and databases. The first argument is our temporary list containing all the tweets we just collated from the .csv file.  We then define the column labels we will use for our data."
   ]
  },
  {
   "cell_type": "code",
   "execution_count": 4,
   "metadata": {},
   "outputs": [],
   "source": [
    "df = pd.DataFrame(temp, columns=['date', '_id', 'place_name', 'place_type', 'lat', 'lng', 'text'])\n",
    "df['date'] = pd.to_datetime(df['date']) "
   ]
  },
  {
   "cell_type": "markdown",
   "metadata": {},
   "source": [
    "We can now start to explore further by looking at a summary of the data across all columns. We use the Pandas .head() function to view the first few rows of the dataset. This is also a good method for checking that our data was correctly loaded and partitioned into the columns."
   ]
  },
  {
   "cell_type": "code",
   "execution_count": 5,
   "metadata": {},
   "outputs": [
    {
     "data": {
      "text/html": [
       "<div>\n",
       "<style scoped>\n",
       "    .dataframe tbody tr th:only-of-type {\n",
       "        vertical-align: middle;\n",
       "    }\n",
       "\n",
       "    .dataframe tbody tr th {\n",
       "        vertical-align: top;\n",
       "    }\n",
       "\n",
       "    .dataframe thead th {\n",
       "        text-align: right;\n",
       "    }\n",
       "</style>\n",
       "<table border=\"1\" class=\"dataframe\">\n",
       "  <thead>\n",
       "    <tr style=\"text-align: right;\">\n",
       "      <th></th>\n",
       "      <th>date</th>\n",
       "      <th>_id</th>\n",
       "      <th>place_name</th>\n",
       "      <th>place_type</th>\n",
       "      <th>lat</th>\n",
       "      <th>lng</th>\n",
       "      <th>text</th>\n",
       "    </tr>\n",
       "  </thead>\n",
       "  <tbody>\n",
       "    <tr>\n",
       "      <td>0</td>\n",
       "      <td>2020-09-29 20:57:35+00:00</td>\n",
       "      <td>1311047494021701632</td>\n",
       "      <td>Oadby</td>\n",
       "      <td>city</td>\n",
       "      <td>52.588300</td>\n",
       "      <td>-1.096120</td>\n",
       "      <td>\"Hovis granary wholemeal\" in #Leicester #Unite...</td>\n",
       "    </tr>\n",
       "    <tr>\n",
       "      <td>1</td>\n",
       "      <td>2020-09-29 20:43:53+00:00</td>\n",
       "      <td>1311044046471585792</td>\n",
       "      <td>Oadby</td>\n",
       "      <td>city</td>\n",
       "      <td>52.588300</td>\n",
       "      <td>-1.096120</td>\n",
       "      <td>\"Celery\" in #Leicester #UnitedKingdom https://...</td>\n",
       "    </tr>\n",
       "    <tr>\n",
       "      <td>2</td>\n",
       "      <td>2020-09-29 20:43:26+00:00</td>\n",
       "      <td>1311043935322611712</td>\n",
       "      <td>Hammersmith</td>\n",
       "      <td>city</td>\n",
       "      <td>51.486500</td>\n",
       "      <td>-0.226510</td>\n",
       "      <td>\"Eat 17 - small baguettes\" in #London #UnitedK...</td>\n",
       "    </tr>\n",
       "    <tr>\n",
       "      <td>3</td>\n",
       "      <td>2020-09-29 20:41:30+00:00</td>\n",
       "      <td>1311043448972083203</td>\n",
       "      <td>Barking</td>\n",
       "      <td>city</td>\n",
       "      <td>51.540900</td>\n",
       "      <td>0.122000</td>\n",
       "      <td>\"Salad\" in #Dagenham #UnitedKingdom https://t....</td>\n",
       "    </tr>\n",
       "    <tr>\n",
       "      <td>4</td>\n",
       "      <td>2020-09-29 20:41:06+00:00</td>\n",
       "      <td>1311043346257772544</td>\n",
       "      <td>Glasgow</td>\n",
       "      <td>city</td>\n",
       "      <td>55.872000</td>\n",
       "      <td>-4.268960</td>\n",
       "      <td>\"Humous and Chipotle Wrap\" in #Glasgow #United...</td>\n",
       "    </tr>\n",
       "    <tr>\n",
       "      <td>5</td>\n",
       "      <td>2020-09-29 20:21:16+00:00</td>\n",
       "      <td>1311038353458917376</td>\n",
       "      <td>Camberwell</td>\n",
       "      <td>city</td>\n",
       "      <td>51.495500</td>\n",
       "      <td>-0.097680</td>\n",
       "      <td>\"Sandwich 🥪\" in #London #UnitedKingdom https:/...</td>\n",
       "    </tr>\n",
       "    <tr>\n",
       "      <td>6</td>\n",
       "      <td>2020-09-29 19:58:56+00:00</td>\n",
       "      <td>1311032734249295873</td>\n",
       "      <td>Portsmouth</td>\n",
       "      <td>city</td>\n",
       "      <td>50.819767</td>\n",
       "      <td>-1.087977</td>\n",
       "      <td>\"Kids bedroom curtains\" in #Portsmouth #United...</td>\n",
       "    </tr>\n",
       "    <tr>\n",
       "      <td>7</td>\n",
       "      <td>2020-09-29 19:58:13+00:00</td>\n",
       "      <td>1311032553516793859</td>\n",
       "      <td>Warrington</td>\n",
       "      <td>city</td>\n",
       "      <td>53.388500</td>\n",
       "      <td>-2.662780</td>\n",
       "      <td>\"4 assorted bakery items\" in #Warrington #Unit...</td>\n",
       "    </tr>\n",
       "    <tr>\n",
       "      <td>8</td>\n",
       "      <td>2020-09-29 19:58:10+00:00</td>\n",
       "      <td>1311032540929708035</td>\n",
       "      <td>Warrington</td>\n",
       "      <td>city</td>\n",
       "      <td>53.388500</td>\n",
       "      <td>-2.662780</td>\n",
       "      <td>\"4 assorted bakery items\" in #Warrington #Unit...</td>\n",
       "    </tr>\n",
       "    <tr>\n",
       "      <td>9</td>\n",
       "      <td>2020-09-29 19:58:10+00:00</td>\n",
       "      <td>1311032540178849792</td>\n",
       "      <td>Warrington</td>\n",
       "      <td>city</td>\n",
       "      <td>53.388500</td>\n",
       "      <td>-2.662780</td>\n",
       "      <td>\"4 assorted bakery items\" in #Warrington #Unit...</td>\n",
       "    </tr>\n",
       "  </tbody>\n",
       "</table>\n",
       "</div>"
      ],
      "text/plain": [
       "                       date                  _id   place_name place_type  \\\n",
       "0 2020-09-29 20:57:35+00:00  1311047494021701632        Oadby       city   \n",
       "1 2020-09-29 20:43:53+00:00  1311044046471585792        Oadby       city   \n",
       "2 2020-09-29 20:43:26+00:00  1311043935322611712  Hammersmith       city   \n",
       "3 2020-09-29 20:41:30+00:00  1311043448972083203      Barking       city   \n",
       "4 2020-09-29 20:41:06+00:00  1311043346257772544      Glasgow       city   \n",
       "5 2020-09-29 20:21:16+00:00  1311038353458917376   Camberwell       city   \n",
       "6 2020-09-29 19:58:56+00:00  1311032734249295873   Portsmouth       city   \n",
       "7 2020-09-29 19:58:13+00:00  1311032553516793859   Warrington       city   \n",
       "8 2020-09-29 19:58:10+00:00  1311032540929708035   Warrington       city   \n",
       "9 2020-09-29 19:58:10+00:00  1311032540178849792   Warrington       city   \n",
       "\n",
       "         lat       lng                                               text  \n",
       "0  52.588300 -1.096120  \"Hovis granary wholemeal\" in #Leicester #Unite...  \n",
       "1  52.588300 -1.096120  \"Celery\" in #Leicester #UnitedKingdom https://...  \n",
       "2  51.486500 -0.226510  \"Eat 17 - small baguettes\" in #London #UnitedK...  \n",
       "3  51.540900  0.122000  \"Salad\" in #Dagenham #UnitedKingdom https://t....  \n",
       "4  55.872000 -4.268960  \"Humous and Chipotle Wrap\" in #Glasgow #United...  \n",
       "5  51.495500 -0.097680  \"Sandwich 🥪\" in #London #UnitedKingdom https:/...  \n",
       "6  50.819767 -1.087977  \"Kids bedroom curtains\" in #Portsmouth #United...  \n",
       "7  53.388500 -2.662780  \"4 assorted bakery items\" in #Warrington #Unit...  \n",
       "8  53.388500 -2.662780  \"4 assorted bakery items\" in #Warrington #Unit...  \n",
       "9  53.388500 -2.662780  \"4 assorted bakery items\" in #Warrington #Unit...  "
      ]
     },
     "execution_count": 5,
     "metadata": {},
     "output_type": "execute_result"
    }
   ],
   "source": [
    "df.head(10)"
   ]
  },
  {
   "cell_type": "markdown",
   "metadata": {},
   "source": [
    "We have captured information about the date and time of the tweet, the message id, a place name and type, latitude and longitude coordinates and the tweet text. Looking at the text of the tweet, we can see they mention various kinds of products, mainly related to food, and particularly those with a short shelf-life. Some tweets include a hashtag for the location, but this is not always the case. In addition, we can see that in some instances the name of the outlet is included, e.g. \"Pret\", and \"Eat 17\", as well as brands e.g. \"Hovis\". We also observe that several of the same food items are being listed from the same location. People may list more than one item of the same product, which are posted to twitter as individual tweets.\n",
    "\n"
   ]
  },
  {
   "cell_type": "markdown",
   "metadata": {},
   "source": [
    "We will look at food waste on a product level over time and per region. We will see now many sandwiches are being saved from waste by region, and since many tweets about sandwiches also mention the brand, we can look at this in terms of Pret, Tesco, and Costa, some of the main outlets for sandwiches.\n",
    "\n",
    "Before we proceed we will write three helper functions that will enable us to filter the data given a text string specifiying a keyword or product. We are using a simple approach using regular expressions, a sequence of characters that define a search pattern to match a string. Python has a built in library for regular expressions called 're', which we import.\n",
    "\n",
    "The tweet text contains a description of the product being listed, and luckily this description is enclosed in double quotation marks making it easy to pull out only the product text and ignore all other text pertaining to the hashtags.\n",
    "\n",
    "Our first function 'getProduct' will iterate through our data set and extract the item description using the re.findall() method given a pattern and text to match that pattern against. We then collate the latitude and longitude coordinates for the tweets matching our search string 'product', which is the only argument passed to this function.\n",
    "\n",
    "The second function 'countProductByLocation' iterates through our data set and like the previous function, will match a text string in the tweet message that we specify.  It then constructs a new Pandas DataFrame based on the counts we obtain for the matched string (in our case a food product), which we will use as the data for plotting.\n",
    "\n",
    "The third function 'countByHour' will take the list of hours and coordinates, count up the number of instances per hour, and convert it to a dataframe for summarising and plotting later. By defining these two functions, we can query different products to help us explore deeper into the data with not too much effort or repetition of code.\n"
   ]
  },
  {
   "cell_type": "code",
   "execution_count": 6,
   "metadata": {},
   "outputs": [],
   "source": [
    "from utils import getProduct, countProductByLocation, countByHour"
   ]
  },
  {
   "cell_type": "code",
   "execution_count": 7,
   "metadata": {},
   "outputs": [
    {
     "data": {
      "text/plain": [
       "Text(0, 0.5, 'Count')"
      ]
     },
     "execution_count": 7,
     "metadata": {},
     "output_type": "execute_result"
    }
   ],
   "source": [
    "# Product search\n",
    "products = ['sandwich', 'pastries']\n",
    "\n",
    "main_plot = None\n",
    "\n",
    "for product in products:\n",
    "    \n",
    "    index, hour_list = getProduct(df, product)\n",
    "\n",
    "    sandwich_df = countByHour(hour_list)\n",
    "    if main_plot == None:\n",
    "        main_plot = sandwich_df.plot(label=product)\n",
    "    else:\n",
    "        sandwich_df.plot(ax=main_plot, label=product)\n",
    "\n",
    "        \n",
    "main_plot.legend(products)\n",
    "main_plot.set_title('Items listed by hour')\n",
    "main_plot.set_ylabel('Count')"
   ]
  },
  {
   "cell_type": "markdown",
   "metadata": {},
   "source": [
    "Now let's try that again, but this time search for brands or sandwich outlets."
   ]
  },
  {
   "cell_type": "code",
   "execution_count": 8,
   "metadata": {},
   "outputs": [
    {
     "data": {
      "text/plain": [
       "Text(0, 0.5, 'Count')"
      ]
     },
     "execution_count": 8,
     "metadata": {},
     "output_type": "execute_result"
    },
    {
     "data": {
      "image/png": "[encoded data removed]",
      "text/plain": [
       "<Figure size 432x288 with 1 Axes>"
      ]
     },
     "metadata": {
      "needs_background": "light"
     },
     "output_type": "display_data"
    }
   ],
   "source": [
    "# Outlet search\n",
    "brands = ['Tesco', 'Pret', 'Costa']\n",
    "\n",
    "main_plot = None\n",
    "\n",
    "for brand in brands:\n",
    "    \n",
    "    index, hour_list = getProduct(df, brand)\n",
    "\n",
    "    sandwich_df = countByHour(hour_list)\n",
    "    if main_plot == None:\n",
    "        main_plot = sandwich_df.plot(label=brand)\n",
    "    else:\n",
    "        sandwich_df.plot(ax=main_plot, label=brand)\n",
    "\n",
    "main_plot.legend(brands)\n",
    "main_plot.set_title('Outlets listed by hour')\n",
    "main_plot.set_ylabel('Count')"
   ]
  },
  {
   "cell_type": "markdown",
   "metadata": {},
   "source": [
    "After plotting the tweets that mention an outlet, we see that these items are generally listed in the latter part of the afternoon and late evening."
   ]
  },
  {
   "cell_type": "markdown",
   "metadata": {},
   "source": [
    "## Task\n",
    "\n",
    "Amend the product names and run the above cells again to explore other listed items. You will see that from this simple example we can already explore a number of questions about food waste using relatively little data."
   ]
  },
  {
   "cell_type": "code",
   "execution_count": null,
   "metadata": {},
   "outputs": [],
   "source": []
  }
 ],
 "metadata": {
  "kernelspec": {
   "display_name": "Python 3",
   "language": "python",
   "name": "python3"
  },
  "language_info": {
   "codemirror_mode": {
    "name": "ipython",
    "version": 3
   },
   "file_extension": ".py",
   "mimetype": "text/x-python",
   "name": "python",
   "nbconvert_exporter": "python",
   "pygments_lexer": "ipython3",
   "version": "3.6.8"
  }
 },
 "nbformat": 4,
 "nbformat_minor": 2
}
